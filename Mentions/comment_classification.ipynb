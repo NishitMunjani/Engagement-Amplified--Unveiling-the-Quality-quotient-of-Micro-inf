{
 "cells": [
  {
   "cell_type": "code",
   "execution_count": 2,
   "metadata": {},
   "outputs": [],
   "source": [
    "import requests\n",
    "import pyperclip as pc\n",
    "import base64"
   ]
  },
  {
   "cell_type": "code",
   "execution_count": 30,
   "metadata": {},
   "outputs": [],
   "source": [
    "import requests  # Don't forget to import requests\n",
    "\n",
    "comments = [\n",
    "    \"Las negras que aparecen en el video las he buscado por la pagina y no la tienen 😢. Me compre unas por Ripley me quedaron chicas  las regale y no he vuelto a encontrarlas. Pasen el dato donde la tienen porfis\",\n",
    "    \"En mis tiempos de escuela usaba mucho esta marca gracias a mis padres y recuerdo que las prestaba ya que no todos podían tener un par de zapatillas pero bueno así es la vida\",\n",
    "    \"Hola @levy__levi Por ahora el modelo que buscas no se encuentra disponible. Te invito a que te mantengas atento a la renovación de stock en nuestro sitio web. ¡Saludos! 😊️\",\n",
    "    \"Muy mala calidad, mi zapatillas no tienen ni dos meses de uso y ya tiene  mucho detalles de fatiga de material\",\n",
    "\n",
    "]\n",
    "\n",
    "for comment in comments:\n",
    "    prompt = f\"\"\"\n",
    "        There are three classes affective, behavioral, cognitive.\n",
    "\n",
    "        Affective Engagement:\n",
    "            Nature: Focuses on users' emotional responses.\n",
    "            Examples: Expressions of joy, satisfaction, frustration, disappointment, excitement, or any emotion reflecting users' feelings towards the product.\n",
    "            \n",
    "        Cognitive Engagement:\n",
    "            Nature: Involves users' mental processes and thoughts.\n",
    "            Examples: Critical thinking, understanding, analysis, or reflection on the product's features, benefits, functionality, or comparisons with similar products.\n",
    "            \n",
    "        Behavioral Engagement:\n",
    "            Nature: Relates to observable actions or behaviors.\n",
    "            Examples: Actions such as purchasing the product, recommending it to others, sharing experiences, or expressing intentions to further interact with the product.\n",
    "            \n",
    "        Based on the definitions, below comments most likely belong to which of these three categories? Answer me with the input comment and corresponding probability distribution of these categories, no explanation required. \n",
    "\n",
    "        \"{comment}\"\n",
    "    \"\"\""
   ]
  },
  {
   "cell_type": "markdown",
   "metadata": {},
   "source": [
    "#### Don't touch this"
   ]
  },
  {
   "cell_type": "code",
   "execution_count": 31,
   "metadata": {},
   "outputs": [
    {
     "name": "stdout",
     "output_type": "stream",
     "text": [
      "New comment\n",
      "\"Muy mala calidad, mi zapatillas no tienen ni dos meses de uso y ya tiene mucho detalles de fatiga de material\"\n",
      "\n",
      "Probability distribution:\n",
      "\n",
      "* Affective Engagement: 0.8\n",
      "* Cognitive Engagement: 0.1\n",
      "* Behavioral Engagement: 0.1\n",
      "\n",
      "\n",
      "New comment\n",
      "\"Muy mala calidad, mi zapatillas no tienen ni dos meses de uso y ya tiene mucho detalles de fatiga de material\" - 70% Affective Engagement, 30% Cognitive Engagement\n",
      "\n",
      "\n",
      "New comment\n",
      "\"Muy mala calidad, mi zapatillas no tienen ni dos meses de uso y ya tiene mucho detalles de fatiga de material\" - 70% Cognitive Engagement, 30% Affective Engagement\n",
      "\n",
      "\n",
      "New comment\n",
      "\"Muy mala calidad, mi zapatillas no tienen ni dos meses de uso y ya tiene mucho detalles de fatiga de material\" - 100% Behavioral Engagement\n",
      "\n",
      "\n"
     ]
    }
   ],
   "source": [
    "#@title Don't touch this\n",
    "for i in range(len(comments)):\n",
    "    main_website = \"https://www.llama2.ai/api\"\n",
    "\n",
    "    payload = {\n",
    "        \"prompt\": \"<s>[INST] <<SYS>>\\nYou are a helpful assistant.\\n<</SYS>>\\n\\n\"+ prompt +\" [/INST]\\n\",\n",
    "        \"model\": \"meta/llama-2-70b-chat\",\n",
    "        \"systemPrompt\": \"You are a helpful assistant.\",\n",
    "        \"temperature\": 0.75,\n",
    "        \"topP\": 0.9,\n",
    "        \"maxTokens\": 800,\n",
    "        \"image\": None,\n",
    "        \"audio\": None,\n",
    "    }\n",
    "\n",
    "    headers = {\n",
    "        \"Accept\": \"*/*\",\n",
    "        \"s-maxage\": \"60\",\n",
    "        \"Accept-Encoding\": \"gzip, deflate, br\",\n",
    "        \"Accept-Language\": \"en-US,en;q=0.5\",\n",
    "        \"Content-Length\": \"236\",\n",
    "        \"Content-Type\": \"text/plain;charset=UTF-8\",\n",
    "        \"Origin\": \"https://www.llama2.ai\",\n",
    "        \"Referer\": \"https://www.llama2.ai/\",\n",
    "        \"Sec-Ch-Ua\": '\"Not_A Brand\";v=\"8\", \"Chromium\";v=\"120\", \"Brave\";v=\"120\"',\n",
    "        \"Sec-Ch-Ua-Mobile\": \"?0\",\n",
    "        \"Sec-Ch-Ua-Platform\": '\"Windows\"',\n",
    "        \"Sec-Fetch-Dest\": \"empty\",\n",
    "        \"Sec-Fetch-Mode\": \"cors\",\n",
    "        \"Sec-Fetch-Site\": \"same-origin\",\n",
    "        \"Sec-Gpc\": \"1\",\n",
    "        \"User-Agent\": \"Mozilla/5.0 (Windows NT 10.0; Win64; x64) AppleWebKit/537.36 (KHTML, like Gecko) Chrome/120.0.0.0 Safari/537.36\",\n",
    "    }\n",
    "\n",
    "    session = requests.session()\n",
    "    print(\"New comment\")\n",
    "    r = session.post(main_website, json=payload, allow_redirects=True)\n",
    "    print(r.text)\n",
    "    print(\"\\n\")  "
   ]
  },
  {
   "cell_type": "markdown",
   "metadata": {},
   "source": [
    "### Answer"
   ]
  },
  {
   "cell_type": "code",
   "execution_count": 29,
   "metadata": {},
   "outputs": [
    {
     "name": "stdout",
     "output_type": "stream",
     "text": [
      "New comment\n",
      "\"Muy mala calidad, mi zapatillas no tienen ni dos meses de uso y ya tiene mucho detalles de fatiga de material\" - 70% Cognitive Engagement, 30% Affective Engagement\n",
      "\n",
      "\n",
      "New comment\n",
      "\"Muy mala calidad, mi zapatillas no tienen ni dos meses de uso y ya tiene mucho detalles de fatiga de material\"\n",
      "\n",
      "Probability distribution:\n",
      "\n",
      "* Affective Engagement: 0.8\n",
      "* Cognitive Engagement: 0.1\n",
      "* Behavioral Engagement: 0.1\n",
      "\n",
      "\n",
      "New comment\n",
      "\"Muy mala calidad, mi zapatillas no tienen ni dos meses de uso y ya tiene mucho detalles de fatiga de material\" - \n",
      "\n",
      "Affective Engagement: 0.2\n",
      "Cognitive Engagement: 0.1\n",
      "Behavioral Engagement: 0.7\n",
      "\n",
      "\n",
      "New comment\n",
      "\"Muy mala calidad, mi zapatillas no tienen ni dos meses de uso y ya tiene mucho detalles de fatiga de material\" - 70% Affective Engagement, 30% Cognitive Engagement\n",
      "\n",
      "\n"
     ]
    }
   ],
   "source": [
    "     "
   ]
  },
  {
   "cell_type": "code",
   "execution_count": null,
   "metadata": {},
   "outputs": [],
   "source": [
    "import pandas as pd\n",
    "\n",
    "# Read input from Excel file\n",
    "input_file_path = r'C:\\Users\\nishi\\OneDrive\\Desktop\\mentions\\Viraj_comments.xlsx'  # Replace with your actual file path\n",
    "df = pd.read_excel(input_file_path)\n",
    "df = df[0]\n",
    "comments = df['Comments'].tolist()\n",
    "\n",
    "# Initialize an empty list to store the output\n",
    "output_results = []\n",
    "\n",
    "for comment in comments:\n",
    "    prompt = f\"\"\"\n",
    "        There are five classes affective, behavioral, cognitive.\n",
    "\n",
    "        Affective Engagement:\n",
    "            Nature: Focuses on users' emotional responses.\n",
    "            Examples: Expressions of joy, satisfaction, frustration, disappointment, excitement, or any emotion reflecting users' feelings towards the product.\n",
    "            \n",
    "        Cognitive Engagement:\n",
    "            Nature: Involves users' mental processes and thoughts.\n",
    "            Examples: Critical thinking, understanding, analysis, or reflection on the product's features, benefits, functionality, or comparisons with similar products.\n",
    "            \n",
    "        Behavioral Engagement:\n",
    "            Nature: Relates to observable actions or behaviors.\n",
    "            Examples: Actions such as purchasing the product, recommending it to others, sharing experiences, or expressing intentions to further interact with the product.\n",
    "            \n",
    "        Based on the definitions, below comments most likely belong to which of these five categories? Answer me with a probability distribution of these categories. \n",
    "\n",
    "        \"{comment}\"\n",
    "    \"\"\"\n",
    "    \n",
    "    # Add your code to send the prompt and receive the results here\n",
    "\n",
    "    # Simulating the response for illustration purposes\n",
    "    # Replace this part with your actual API request\n",
    "    probability_distribution = {\"affective\": 0.4, \"cognitive\": 0.3, \"behavioral\": 0.2}\n",
    "\n",
    "    # Store the result in the output list\n",
    "    output_results.append(probability_distribution)\n",
    "\n",
    "# Create a DataFrame for the output and write it to an Excel file\n",
    "output_df = pd.DataFrame(output_results, columns=[\"Affective\", \"Cognitive\", \"Behavioral\"])\n",
    "output_file_path = 'output_file.xlsx'  # Replace with your desired output file path\n",
    "output_df.to_excel(output_file_path, index=False)\n",
    "\n",
    "print(f\"Output stored in: {output_file_path}\")\n"
   ]
  }
 ],
 "metadata": {
  "kernelspec": {
   "display_name": "Python 3 (ipykernel)",
   "language": "python",
   "name": "python3"
  },
  "language_info": {
   "codemirror_mode": {
    "name": "ipython",
    "version": 3
   },
   "file_extension": ".py",
   "mimetype": "text/x-python",
   "name": "python",
   "nbconvert_exporter": "python",
   "pygments_lexer": "ipython3",
   "version": "3.11.5"
  }
 },
 "nbformat": 4,
 "nbformat_minor": 2
}
