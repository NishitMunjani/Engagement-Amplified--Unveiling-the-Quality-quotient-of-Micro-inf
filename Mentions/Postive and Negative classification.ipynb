{
 "cells": [
  {
   "cell_type": "code",
   "execution_count": 7,
   "id": "74e871a4",
   "metadata": {},
   "outputs": [
    {
     "name": "stderr",
     "output_type": "stream",
     "text": [
      "[nltk_data] Downloading package punkt to\n",
      "[nltk_data]     C:\\Users\\nishi\\AppData\\Roaming\\nltk_data...\n",
      "[nltk_data]   Package punkt is already up-to-date!\n",
      "[nltk_data] Downloading package vader_lexicon to\n",
      "[nltk_data]     C:\\Users\\nishi\\AppData\\Roaming\\nltk_data...\n",
      "[nltk_data]   Package vader_lexicon is already up-to-date!\n"
     ]
    },
    {
     "name": "stdout",
     "output_type": "stream",
     "text": [
      "                                                Comments sentiment\n",
      "0      Step into style with Lee Cooper at Phoenix Uni...  positive\n",
      "1                                                   🔥🔥❤️  positive\n",
      "2                                                    nan  positive\n",
      "3                                                     😍🔥  positive\n",
      "4                                                     😮😮  positive\n",
      "...                                                  ...       ...\n",
      "26075                                        Amazing 😍 👌  positive\n",
      "26076                                                🙌🙌💯  positive\n",
      "26077                                 Please check dm :)  positive\n",
      "26078                                   How can i order?  positive\n",
      "26079                                           Check DM  positive\n",
      "\n",
      "[26080 rows x 2 columns]\n"
     ]
    }
   ],
   "source": [
    "import pandas as pd\n",
    "import nltk\n",
    "from nltk.sentiment import SentimentIntensityAnalyzer\n",
    "\n",
    "# Download NLTK resources (run this once)\n",
    "nltk.download('punkt')\n",
    "nltk.download('vader_lexicon')\n",
    "\n",
    "# Load comments from Excel file\n",
    "excel_file_path = r'C:\\Users\\nishi\\OneDrive\\Desktop\\mentions\\Shoes_comments.xlsx'  # Replace with the actual path to your Excel file\n",
    "df = pd.read_excel(excel_file_path)\n",
    "\n",
    "# Ensure that your Excel file has a column named 'comments'\n",
    "comments_column = 'Comments'\n",
    "\n",
    "# Initialize the SentimentIntensityAnalyzer\n",
    "sid = SentimentIntensityAnalyzer()\n",
    "df['Comments'] = df['Comments'].astype(str)\n",
    "# Function to classify sentiment as positive or negative\n",
    "def classify_sentiment(comment):\n",
    "    sentiment_score = sid.polarity_scores(comment)['compound']\n",
    "    return 'positive' if sentiment_score >= 0 else 'negative'\n",
    "\n",
    "# Apply sentiment analysis to each comment in the DataFrame\n",
    "df['sentiment'] = df[comments_column].apply(classify_sentiment)\n",
    "\n",
    "# Display the DataFrame with sentiment labels\n",
    "print(df[['Comments', 'sentiment']])"
   ]
  },
  {
   "cell_type": "code",
   "execution_count": 14,
   "id": "9f3bbe6d",
   "metadata": {},
   "outputs": [],
   "source": [
    "import matplotlib.pyplot as plt"
   ]
  },
  {
   "cell_type": "code",
   "execution_count": 15,
   "id": "d3ed524c",
   "metadata": {},
   "outputs": [
    {
     "data": {
      "image/png": "[encoded data removed]",
      "text/plain": [
       "<Figure size 640x480 with 1 Axes>"
      ]
     },
     "metadata": {},
     "output_type": "display_data"
    }
   ],
   "source": [
    "sentiment_counts = df['sentiment'].value_counts()\n",
    "\n",
    "# Plotting\n",
    "plt.bar(sentiment_counts.index, sentiment_counts.values)\n",
    "plt.xlabel('Sentiment')\n",
    "plt.ylabel('Count')\n",
    "plt.title('Sentiment Distribution')\n",
    "plt.show()"
   ]
  },
  {
   "cell_type": "code",
   "execution_count": 16,
   "id": "1577fe58",
   "metadata": {},
   "outputs": [
    {
     "data": {
      "text/plain": [
       "sentiment\n",
       "positive    25098\n",
       "negative      982\n",
       "Name: count, dtype: int64"
      ]
     },
     "execution_count": 16,
     "metadata": {},
     "output_type": "execute_result"
    }
   ],
   "source": [
    "sentiment_counts"
   ]
  },
  {
   "cell_type": "code",
   "execution_count": 17,
   "id": "7fd54d1b",
   "metadata": {},
   "outputs": [
    {
     "name": "stdout",
     "output_type": "stream",
     "text": [
      "                                                Comments sentiment\n",
      "0      Step into style with Lee Cooper at Phoenix Uni...  positive\n",
      "1                                                   🔥🔥❤️  positive\n",
      "2                                                    nan  positive\n",
      "3                                                     😍🔥  positive\n",
      "4                                                     😮😮  positive\n",
      "...                                                  ...       ...\n",
      "26075                                        Amazing 😍 👌  positive\n",
      "26076                                                🙌🙌💯  positive\n",
      "26077                                 Please check dm :)  positive\n",
      "26078                                   How can i order?  positive\n",
      "26079                                           Check DM  positive\n",
      "\n",
      "[26080 rows x 2 columns]\n"
     ]
    }
   ],
   "source": [
    "# Load comments from Excel file\n",
    "excel_file_path = r'C:\\Users\\nishi\\OneDrive\\Desktop\\mentions\\Shoes_comments.xlsx'  # Replace with the actual path to your Excel file\n",
    "df = pd.read_excel(excel_file_path)\n",
    "\n",
    "# Ensure that your Excel file has a column named 'comments'\n",
    "comments_column = 'Comments'\n",
    "mentions_column = 'Mentions'\n",
    "\n",
    "# Initialize the SentimentIntensityAnalyzer\n",
    "sid = SentimentIntensityAnalyzer()\n",
    "df['Comments'] = df['Comments'].astype(str)\n",
    "\n",
    "# Function to classify sentiment as positive or negative\n",
    "def classify_sentiment(comment):\n",
    "    sentiment_score = sid.polarity_scores(comment)['compound']\n",
    "    return 'positive' if sentiment_score >= 0 else 'negative'\n",
    "\n",
    "# Apply sentiment analysis to each comment in the DataFrame\n",
    "df['sentiment'] = df[comments_column].apply(classify_sentiment)\n",
    "\n",
    "# Display the DataFrame with sentiment labels\n",
    "print(df[['Comments', 'sentiment']])\n",
    "\n",
    "df.to_excel('Shoes_comments_new.xlsx', index=False)\n"
   ]
  },
  {
   "cell_type": "code",
   "execution_count": 18,
   "id": "de2ff58a",
   "metadata": {},
   "outputs": [],
   "source": [
    "df['sentiment'] = df['sentiment']\n",
    "\n",
    "positive_sentiment_data = df[df['sentiment'] == 'Positive']\n"
   ]
  },
  {
   "cell_type": "code",
   "execution_count": 19,
   "id": "7ec787b3",
   "metadata": {},
   "outputs": [
    {
     "data": {
      "text/html": [
       "<div>\n",
       "<style scoped>\n",
       "    .dataframe tbody tr th:only-of-type {\n",
       "        vertical-align: middle;\n",
       "    }\n",
       "\n",
       "    .dataframe tbody tr th {\n",
       "        vertical-align: top;\n",
       "    }\n",
       "\n",
       "    .dataframe thead th {\n",
       "        text-align: right;\n",
       "    }\n",
       "</style>\n",
       "<table border=\"1\" class=\"dataframe\">\n",
       "  <thead>\n",
       "    <tr style=\"text-align: right;\">\n",
       "      <th></th>\n",
       "      <th>Comments</th>\n",
       "      <th>Mentions</th>\n",
       "      <th>sentiment</th>\n",
       "    </tr>\n",
       "  </thead>\n",
       "  <tbody>\n",
       "  </tbody>\n",
       "</table>\n",
       "</div>"
      ],
      "text/plain": [
       "Empty DataFrame\n",
       "Columns: [Comments, Mentions, sentiment]\n",
       "Index: []"
      ]
     },
     "execution_count": 19,
     "metadata": {},
     "output_type": "execute_result"
    }
   ],
   "source": [
    "positive_sentiment_data"
   ]
  },
  {
   "cell_type": "code",
   "execution_count": null,
   "id": "51c923a4",
   "metadata": {},
   "outputs": [],
   "source": []
  }
 ],
 "metadata": {
  "kernelspec": {
   "display_name": "Python 3 (ipykernel)",
   "language": "python",
   "name": "python3"
  },
  "language_info": {
   "codemirror_mode": {
    "name": "ipython",
    "version": 3
   },
   "file_extension": ".py",
   "mimetype": "text/x-python",
   "name": "python",
   "nbconvert_exporter": "python",
   "pygments_lexer": "ipython3",
   "version": "3.11.5"
  }
 },
 "nbformat": 4,
 "nbformat_minor": 5
}
