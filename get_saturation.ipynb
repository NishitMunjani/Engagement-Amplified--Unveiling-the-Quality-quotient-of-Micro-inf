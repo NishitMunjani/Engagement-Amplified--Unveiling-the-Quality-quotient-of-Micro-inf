{
 "cells": [
  {
   "cell_type": "code",
   "execution_count": 1,
   "metadata": {},
   "outputs": [],
   "source": [
    "import warnings\n",
    "warnings.filterwarnings('ignore')\n",
    "import pandas as pd\n",
    "import numpy as np"
   ]
  },
  {
   "cell_type": "code",
   "execution_count": 2,
   "metadata": {},
   "outputs": [],
   "source": [
    "df = pd.read_excel(r\"D:\\Study\\Project\\Minor Project\\Categories\\Automobile\\Final_comment_count_automobile_newest.xlsx\")"
   ]
  },
  {
   "cell_type": "code",
   "execution_count": 3,
   "metadata": {},
   "outputs": [
    {
     "data": {
      "text/html": [
       "<div>\n",
       "<style scoped>\n",
       "    .dataframe tbody tr th:only-of-type {\n",
       "        vertical-align: middle;\n",
       "    }\n",
       "\n",
       "    .dataframe tbody tr th {\n",
       "        vertical-align: top;\n",
       "    }\n",
       "\n",
       "    .dataframe thead th {\n",
       "        text-align: right;\n",
       "    }\n",
       "</style>\n",
       "<table border=\"1\" class=\"dataframe\">\n",
       "  <thead>\n",
       "    <tr style=\"text-align: right;\">\n",
       "      <th></th>\n",
       "      <th>Influencers</th>\n",
       "      <th>1D</th>\n",
       "      <th>2D</th>\n",
       "      <th>3D</th>\n",
       "      <th>4D</th>\n",
       "      <th>5D</th>\n",
       "      <th>6D</th>\n",
       "      <th>7D</th>\n",
       "      <th>8D</th>\n",
       "      <th>9D</th>\n",
       "      <th>10D</th>\n",
       "      <th>11D</th>\n",
       "      <th>12D</th>\n",
       "      <th>13D</th>\n",
       "      <th>14D</th>\n",
       "    </tr>\n",
       "  </thead>\n",
       "  <tbody>\n",
       "    <tr>\n",
       "      <th>0</th>\n",
       "      <td>100kmphofficial</td>\n",
       "      <td>1.188679</td>\n",
       "      <td>5.509434</td>\n",
       "      <td>6.509434</td>\n",
       "      <td>8.169811</td>\n",
       "      <td>8.169811</td>\n",
       "      <td>8.169811</td>\n",
       "      <td>11.490566</td>\n",
       "      <td>11.490566</td>\n",
       "      <td>11.490566</td>\n",
       "      <td>11.490566</td>\n",
       "      <td>12.320755</td>\n",
       "      <td>13.981132</td>\n",
       "      <td>15.641509</td>\n",
       "      <td>15.641509</td>\n",
       "    </tr>\n",
       "    <tr>\n",
       "      <th>1</th>\n",
       "      <td>101india</td>\n",
       "      <td>0.444444</td>\n",
       "      <td>0.666667</td>\n",
       "      <td>0.888889</td>\n",
       "      <td>0.888889</td>\n",
       "      <td>0.888889</td>\n",
       "      <td>0.888889</td>\n",
       "      <td>0.888889</td>\n",
       "      <td>0.888889</td>\n",
       "      <td>1.000000</td>\n",
       "      <td>1.000000</td>\n",
       "      <td>1.000000</td>\n",
       "      <td>1.000000</td>\n",
       "      <td>1.000000</td>\n",
       "      <td>1.000000</td>\n",
       "    </tr>\n",
       "    <tr>\n",
       "      <th>2</th>\n",
       "      <td>10_wheel_adicter</td>\n",
       "      <td>12.000000</td>\n",
       "      <td>14.000000</td>\n",
       "      <td>15.000000</td>\n",
       "      <td>15.000000</td>\n",
       "      <td>16.000000</td>\n",
       "      <td>16.000000</td>\n",
       "      <td>16.000000</td>\n",
       "      <td>16.000000</td>\n",
       "      <td>16.000000</td>\n",
       "      <td>17.000000</td>\n",
       "      <td>17.000000</td>\n",
       "      <td>17.000000</td>\n",
       "      <td>17.000000</td>\n",
       "      <td>17.000000</td>\n",
       "    </tr>\n",
       "    <tr>\n",
       "      <th>3</th>\n",
       "      <td>10k__models_of_insta_</td>\n",
       "      <td>12.000000</td>\n",
       "      <td>17.000000</td>\n",
       "      <td>17.000000</td>\n",
       "      <td>17.000000</td>\n",
       "      <td>17.000000</td>\n",
       "      <td>17.000000</td>\n",
       "      <td>17.000000</td>\n",
       "      <td>17.000000</td>\n",
       "      <td>17.000000</td>\n",
       "      <td>17.000000</td>\n",
       "      <td>17.000000</td>\n",
       "      <td>17.000000</td>\n",
       "      <td>17.000000</td>\n",
       "      <td>17.000000</td>\n",
       "    </tr>\n",
       "    <tr>\n",
       "      <th>4</th>\n",
       "      <td>12_wheel_addict</td>\n",
       "      <td>5.578947</td>\n",
       "      <td>5.578947</td>\n",
       "      <td>6.105263</td>\n",
       "      <td>6.105263</td>\n",
       "      <td>6.105263</td>\n",
       "      <td>6.105263</td>\n",
       "      <td>6.105263</td>\n",
       "      <td>6.105263</td>\n",
       "      <td>6.105263</td>\n",
       "      <td>6.105263</td>\n",
       "      <td>6.105263</td>\n",
       "      <td>6.105263</td>\n",
       "      <td>6.473684</td>\n",
       "      <td>6.473684</td>\n",
       "    </tr>\n",
       "  </tbody>\n",
       "</table>\n",
       "</div>"
      ],
      "text/plain": [
       "             Influencers         1D         2D         3D         4D  \\\n",
       "0        100kmphofficial   1.188679   5.509434   6.509434   8.169811   \n",
       "1               101india   0.444444   0.666667   0.888889   0.888889   \n",
       "2       10_wheel_adicter  12.000000  14.000000  15.000000  15.000000   \n",
       "3  10k__models_of_insta_  12.000000  17.000000  17.000000  17.000000   \n",
       "4        12_wheel_addict   5.578947   5.578947   6.105263   6.105263   \n",
       "\n",
       "          5D         6D         7D         8D         9D        10D  \\\n",
       "0   8.169811   8.169811  11.490566  11.490566  11.490566  11.490566   \n",
       "1   0.888889   0.888889   0.888889   0.888889   1.000000   1.000000   \n",
       "2  16.000000  16.000000  16.000000  16.000000  16.000000  17.000000   \n",
       "3  17.000000  17.000000  17.000000  17.000000  17.000000  17.000000   \n",
       "4   6.105263   6.105263   6.105263   6.105263   6.105263   6.105263   \n",
       "\n",
       "         11D        12D        13D        14D  \n",
       "0  12.320755  13.981132  15.641509  15.641509  \n",
       "1   1.000000   1.000000   1.000000   1.000000  \n",
       "2  17.000000  17.000000  17.000000  17.000000  \n",
       "3  17.000000  17.000000  17.000000  17.000000  \n",
       "4   6.105263   6.105263   6.473684   6.473684  "
      ]
     },
     "execution_count": 3,
     "metadata": {},
     "output_type": "execute_result"
    }
   ],
   "source": [
    "df.head()"
   ]
  },
  {
   "cell_type": "code",
   "execution_count": 52,
   "metadata": {},
   "outputs": [],
   "source": [
    "for i in range(1, 15):\n",
    "    df[f'{i}D'] = df[f'{i}D'].apply(lambda x: np.ceil(x))\n"
   ]
  },
  {
   "cell_type": "code",
   "execution_count": 53,
   "metadata": {},
   "outputs": [
    {
     "name": "stdout",
     "output_type": "stream",
     "text": [
      "                Influencers    1D    2D    3D    4D    5D    6D    7D    8D  \\\n",
      "0           100kmphofficial   2.0   6.0   7.0   9.0   9.0   9.0  12.0  12.0   \n",
      "1                  101india   1.0   1.0   1.0   1.0   1.0   1.0   1.0   1.0   \n",
      "2          10_wheel_adicter  12.0  14.0  15.0  15.0  16.0  16.0  16.0  16.0   \n",
      "3     10k__models_of_insta_  12.0  17.0  17.0  17.0  17.0  17.0  17.0  17.0   \n",
      "4           12_wheel_addict   6.0   6.0   7.0   7.0   7.0   7.0   7.0   7.0   \n",
      "...                     ...   ...   ...   ...   ...   ...   ...   ...   ...   \n",
      "3830              zooomberg   1.0   1.0   1.0   1.0   1.0   1.0   1.0   1.0   \n",
      "3831              zoyaafroz   4.0   4.0   4.0   4.0   4.0   4.0   4.0   4.0   \n",
      "3832         zubinchoudhary   4.0   4.0   4.0   4.0   4.0   4.0   4.0   4.0   \n",
      "3833             zyvastudio  10.0  10.0  11.0  11.0  11.0  11.0  11.0  11.0   \n",
      "3834                      👤   5.0   7.0   7.0   7.0   7.0   7.0   7.0   7.0   \n",
      "\n",
      "        9D   10D   11D   12D   13D   14D Saturation Day_of_saturation  \n",
      "0     12.0  12.0  13.0  14.0  16.0  16.0  Saturated                 3  \n",
      "1      1.0   1.0   1.0   1.0   1.0   1.0  Saturated                 0  \n",
      "2     16.0  17.0  17.0  17.0  17.0  17.0  Saturated                 4  \n",
      "3     17.0  17.0  17.0  17.0  17.0  17.0  Saturated                 1  \n",
      "4      7.0   7.0   7.0   7.0   7.0   7.0  Saturated                 2  \n",
      "...    ...   ...   ...   ...   ...   ...        ...               ...  \n",
      "3830   1.0   1.0   1.0   1.0   1.0   1.0  Saturated                 0  \n",
      "3831   4.0   4.0   4.0   4.0   4.0   4.0  Saturated                 0  \n",
      "3832   4.0   4.0   4.0   4.0   4.0   4.0  Saturated                 0  \n",
      "3833  11.0  11.0  11.0  11.0  11.0  11.0  Saturated                 2  \n",
      "3834   7.0   7.0   7.0   7.0   7.0   7.0  Saturated                 1  \n",
      "\n",
      "[3835 rows x 17 columns]\n"
     ]
    }
   ],
   "source": [
    "df['Saturation'] = ''\n",
    "df['Day_of_saturation'] = ''\n",
    "\n",
    "# Iterate over each row in the DataFrame\n",
    "for index, row in df.iterrows():\n",
    "    # Get the columns representing the comment counts for each day\n",
    "    comment_count_cols = row.index[1:]\n",
    "\n",
    "    # Initialize a flag to track saturation\n",
    "    saturated = False\n",
    "    day = 0\n",
    "\n",
    "    # Iterate over the columns representing the comment counts for each day\n",
    "    for i in range(len(comment_count_cols) - 4):\n",
    "        # Get the comment counts for three consecutive days\n",
    "        three_day_counts = row[comment_count_cols[i:i+5]]\n",
    "\n",
    "        # Check if the comment counts for the three consecutive days are the same\n",
    "        if three_day_counts.nunique() == 1:\n",
    "            saturated = True\n",
    "            day = i\n",
    "            break  # Exit the loop if saturation is found\n",
    "\n",
    "    # Update the saturation status in the DataFrame\n",
    "    if saturated:\n",
    "        df.at[index, 'Saturation'] = 'Saturated'\n",
    "        df.at[index, 'Day_of_saturation'] = day\n",
    "    else:\n",
    "        df.at[index, 'Saturation'] = 'Not Saturated'\n",
    "\n",
    "print(df)\n"
   ]
  },
  {
   "cell_type": "code",
   "execution_count": 54,
   "metadata": {},
   "outputs": [
    {
     "data": {
      "text/html": [
       "<div>\n",
       "<style scoped>\n",
       "    .dataframe tbody tr th:only-of-type {\n",
       "        vertical-align: middle;\n",
       "    }\n",
       "\n",
       "    .dataframe tbody tr th {\n",
       "        vertical-align: top;\n",
       "    }\n",
       "\n",
       "    .dataframe thead th {\n",
       "        text-align: right;\n",
       "    }\n",
       "</style>\n",
       "<table border=\"1\" class=\"dataframe\">\n",
       "  <thead>\n",
       "    <tr style=\"text-align: right;\">\n",
       "      <th></th>\n",
       "      <th>Influencers</th>\n",
       "      <th>1D</th>\n",
       "      <th>2D</th>\n",
       "      <th>3D</th>\n",
       "      <th>4D</th>\n",
       "      <th>5D</th>\n",
       "      <th>6D</th>\n",
       "      <th>7D</th>\n",
       "      <th>8D</th>\n",
       "      <th>9D</th>\n",
       "      <th>10D</th>\n",
       "      <th>11D</th>\n",
       "      <th>12D</th>\n",
       "      <th>13D</th>\n",
       "      <th>14D</th>\n",
       "      <th>Saturation</th>\n",
       "      <th>Day_of_saturation</th>\n",
       "    </tr>\n",
       "  </thead>\n",
       "  <tbody>\n",
       "    <tr>\n",
       "      <th>0</th>\n",
       "      <td>100kmphofficial</td>\n",
       "      <td>2.0</td>\n",
       "      <td>6.0</td>\n",
       "      <td>7.0</td>\n",
       "      <td>9.0</td>\n",
       "      <td>9.0</td>\n",
       "      <td>9.0</td>\n",
       "      <td>12.0</td>\n",
       "      <td>12.0</td>\n",
       "      <td>12.0</td>\n",
       "      <td>12.0</td>\n",
       "      <td>13.0</td>\n",
       "      <td>14.0</td>\n",
       "      <td>16.0</td>\n",
       "      <td>16.0</td>\n",
       "      <td>Saturated</td>\n",
       "      <td>3</td>\n",
       "    </tr>\n",
       "    <tr>\n",
       "      <th>1</th>\n",
       "      <td>101india</td>\n",
       "      <td>1.0</td>\n",
       "      <td>1.0</td>\n",
       "      <td>1.0</td>\n",
       "      <td>1.0</td>\n",
       "      <td>1.0</td>\n",
       "      <td>1.0</td>\n",
       "      <td>1.0</td>\n",
       "      <td>1.0</td>\n",
       "      <td>1.0</td>\n",
       "      <td>1.0</td>\n",
       "      <td>1.0</td>\n",
       "      <td>1.0</td>\n",
       "      <td>1.0</td>\n",
       "      <td>1.0</td>\n",
       "      <td>Saturated</td>\n",
       "      <td>0</td>\n",
       "    </tr>\n",
       "    <tr>\n",
       "      <th>2</th>\n",
       "      <td>10_wheel_adicter</td>\n",
       "      <td>12.0</td>\n",
       "      <td>14.0</td>\n",
       "      <td>15.0</td>\n",
       "      <td>15.0</td>\n",
       "      <td>16.0</td>\n",
       "      <td>16.0</td>\n",
       "      <td>16.0</td>\n",
       "      <td>16.0</td>\n",
       "      <td>16.0</td>\n",
       "      <td>17.0</td>\n",
       "      <td>17.0</td>\n",
       "      <td>17.0</td>\n",
       "      <td>17.0</td>\n",
       "      <td>17.0</td>\n",
       "      <td>Saturated</td>\n",
       "      <td>4</td>\n",
       "    </tr>\n",
       "    <tr>\n",
       "      <th>3</th>\n",
       "      <td>10k__models_of_insta_</td>\n",
       "      <td>12.0</td>\n",
       "      <td>17.0</td>\n",
       "      <td>17.0</td>\n",
       "      <td>17.0</td>\n",
       "      <td>17.0</td>\n",
       "      <td>17.0</td>\n",
       "      <td>17.0</td>\n",
       "      <td>17.0</td>\n",
       "      <td>17.0</td>\n",
       "      <td>17.0</td>\n",
       "      <td>17.0</td>\n",
       "      <td>17.0</td>\n",
       "      <td>17.0</td>\n",
       "      <td>17.0</td>\n",
       "      <td>Saturated</td>\n",
       "      <td>1</td>\n",
       "    </tr>\n",
       "    <tr>\n",
       "      <th>4</th>\n",
       "      <td>12_wheel_addict</td>\n",
       "      <td>6.0</td>\n",
       "      <td>6.0</td>\n",
       "      <td>7.0</td>\n",
       "      <td>7.0</td>\n",
       "      <td>7.0</td>\n",
       "      <td>7.0</td>\n",
       "      <td>7.0</td>\n",
       "      <td>7.0</td>\n",
       "      <td>7.0</td>\n",
       "      <td>7.0</td>\n",
       "      <td>7.0</td>\n",
       "      <td>7.0</td>\n",
       "      <td>7.0</td>\n",
       "      <td>7.0</td>\n",
       "      <td>Saturated</td>\n",
       "      <td>2</td>\n",
       "    </tr>\n",
       "  </tbody>\n",
       "</table>\n",
       "</div>"
      ],
      "text/plain": [
       "             Influencers    1D    2D    3D    4D    5D    6D    7D    8D  \\\n",
       "0        100kmphofficial   2.0   6.0   7.0   9.0   9.0   9.0  12.0  12.0   \n",
       "1               101india   1.0   1.0   1.0   1.0   1.0   1.0   1.0   1.0   \n",
       "2       10_wheel_adicter  12.0  14.0  15.0  15.0  16.0  16.0  16.0  16.0   \n",
       "3  10k__models_of_insta_  12.0  17.0  17.0  17.0  17.0  17.0  17.0  17.0   \n",
       "4        12_wheel_addict   6.0   6.0   7.0   7.0   7.0   7.0   7.0   7.0   \n",
       "\n",
       "     9D   10D   11D   12D   13D   14D Saturation Day_of_saturation  \n",
       "0  12.0  12.0  13.0  14.0  16.0  16.0  Saturated                 3  \n",
       "1   1.0   1.0   1.0   1.0   1.0   1.0  Saturated                 0  \n",
       "2  16.0  17.0  17.0  17.0  17.0  17.0  Saturated                 4  \n",
       "3  17.0  17.0  17.0  17.0  17.0  17.0  Saturated                 1  \n",
       "4   7.0   7.0   7.0   7.0   7.0   7.0  Saturated                 2  "
      ]
     },
     "execution_count": 54,
     "metadata": {},
     "output_type": "execute_result"
    }
   ],
   "source": [
    "df.head()"
   ]
  },
  {
   "cell_type": "code",
   "execution_count": 55,
   "metadata": {},
   "outputs": [],
   "source": [
    "df.to_excel('saturated_automobile_day1_to_day14.xlsx', index=False)"
   ]
  },
  {
   "cell_type": "code",
   "execution_count": 69,
   "metadata": {},
   "outputs": [],
   "source": [
    "df = pd.read_excel(r\"D:\\Study\\Project\\Minor Project\\saturated_shoes_day1_to_day14.xlsx\")"
   ]
  },
  {
   "cell_type": "code",
   "execution_count": 70,
   "metadata": {},
   "outputs": [
    {
     "data": {
      "text/html": [
       "<div>\n",
       "<style scoped>\n",
       "    .dataframe tbody tr th:only-of-type {\n",
       "        vertical-align: middle;\n",
       "    }\n",
       "\n",
       "    .dataframe tbody tr th {\n",
       "        vertical-align: top;\n",
       "    }\n",
       "\n",
       "    .dataframe thead th {\n",
       "        text-align: right;\n",
       "    }\n",
       "</style>\n",
       "<table border=\"1\" class=\"dataframe\">\n",
       "  <thead>\n",
       "    <tr style=\"text-align: right;\">\n",
       "      <th></th>\n",
       "      <th>Influencers</th>\n",
       "      <th>1D</th>\n",
       "      <th>2D</th>\n",
       "      <th>3D</th>\n",
       "      <th>4D</th>\n",
       "      <th>5D</th>\n",
       "      <th>6D</th>\n",
       "      <th>7D</th>\n",
       "      <th>8D</th>\n",
       "      <th>9D</th>\n",
       "      <th>10D</th>\n",
       "      <th>11D</th>\n",
       "      <th>12D</th>\n",
       "      <th>13D</th>\n",
       "      <th>14D</th>\n",
       "      <th>Saturation</th>\n",
       "      <th>Day_of_saturation</th>\n",
       "    </tr>\n",
       "  </thead>\n",
       "  <tbody>\n",
       "    <tr>\n",
       "      <th>0</th>\n",
       "      <td>007underconstruction</td>\n",
       "      <td>7</td>\n",
       "      <td>19</td>\n",
       "      <td>31</td>\n",
       "      <td>31</td>\n",
       "      <td>31</td>\n",
       "      <td>35</td>\n",
       "      <td>35</td>\n",
       "      <td>35</td>\n",
       "      <td>35</td>\n",
       "      <td>35</td>\n",
       "      <td>35</td>\n",
       "      <td>35</td>\n",
       "      <td>35</td>\n",
       "      <td>35</td>\n",
       "      <td>Saturated</td>\n",
       "      <td>2.0</td>\n",
       "    </tr>\n",
       "    <tr>\n",
       "      <th>1</th>\n",
       "      <td>03nataliagaitan</td>\n",
       "      <td>0</td>\n",
       "      <td>0</td>\n",
       "      <td>0</td>\n",
       "      <td>0</td>\n",
       "      <td>0</td>\n",
       "      <td>0</td>\n",
       "      <td>0</td>\n",
       "      <td>0</td>\n",
       "      <td>0</td>\n",
       "      <td>0</td>\n",
       "      <td>0</td>\n",
       "      <td>0</td>\n",
       "      <td>0</td>\n",
       "      <td>0</td>\n",
       "      <td>Saturated</td>\n",
       "      <td>0.0</td>\n",
       "    </tr>\n",
       "    <tr>\n",
       "      <th>2</th>\n",
       "      <td>100social</td>\n",
       "      <td>3</td>\n",
       "      <td>3</td>\n",
       "      <td>3</td>\n",
       "      <td>3</td>\n",
       "      <td>3</td>\n",
       "      <td>3</td>\n",
       "      <td>3</td>\n",
       "      <td>3</td>\n",
       "      <td>3</td>\n",
       "      <td>3</td>\n",
       "      <td>3</td>\n",
       "      <td>3</td>\n",
       "      <td>3</td>\n",
       "      <td>3</td>\n",
       "      <td>Saturated</td>\n",
       "      <td>0.0</td>\n",
       "    </tr>\n",
       "    <tr>\n",
       "      <th>3</th>\n",
       "      <td>111sidora</td>\n",
       "      <td>15</td>\n",
       "      <td>15</td>\n",
       "      <td>15</td>\n",
       "      <td>15</td>\n",
       "      <td>15</td>\n",
       "      <td>15</td>\n",
       "      <td>15</td>\n",
       "      <td>15</td>\n",
       "      <td>15</td>\n",
       "      <td>15</td>\n",
       "      <td>15</td>\n",
       "      <td>15</td>\n",
       "      <td>15</td>\n",
       "      <td>15</td>\n",
       "      <td>Saturated</td>\n",
       "      <td>0.0</td>\n",
       "    </tr>\n",
       "    <tr>\n",
       "      <th>4</th>\n",
       "      <td>11casting</td>\n",
       "      <td>3</td>\n",
       "      <td>4</td>\n",
       "      <td>4</td>\n",
       "      <td>4</td>\n",
       "      <td>4</td>\n",
       "      <td>4</td>\n",
       "      <td>4</td>\n",
       "      <td>4</td>\n",
       "      <td>4</td>\n",
       "      <td>4</td>\n",
       "      <td>4</td>\n",
       "      <td>4</td>\n",
       "      <td>4</td>\n",
       "      <td>4</td>\n",
       "      <td>Saturated</td>\n",
       "      <td>1.0</td>\n",
       "    </tr>\n",
       "  </tbody>\n",
       "</table>\n",
       "</div>"
      ],
      "text/plain": [
       "            Influencers  1D  2D  3D  4D  5D  6D  7D  8D  9D  10D  11D  12D  \\\n",
       "0  007underconstruction   7  19  31  31  31  35  35  35  35   35   35   35   \n",
       "1       03nataliagaitan   0   0   0   0   0   0   0   0   0    0    0    0   \n",
       "2             100social   3   3   3   3   3   3   3   3   3    3    3    3   \n",
       "3             111sidora  15  15  15  15  15  15  15  15  15   15   15   15   \n",
       "4             11casting   3   4   4   4   4   4   4   4   4    4    4    4   \n",
       "\n",
       "   13D  14D Saturation  Day_of_saturation  \n",
       "0   35   35  Saturated                2.0  \n",
       "1    0    0  Saturated                0.0  \n",
       "2    3    3  Saturated                0.0  \n",
       "3   15   15  Saturated                0.0  \n",
       "4    4    4  Saturated                1.0  "
      ]
     },
     "execution_count": 70,
     "metadata": {},
     "output_type": "execute_result"
    }
   ],
   "source": [
    "df.head()"
   ]
  },
  {
   "cell_type": "code",
   "execution_count": 71,
   "metadata": {},
   "outputs": [
    {
     "data": {
      "text/plain": [
       "Saturation\n",
       "Saturated        2813\n",
       "Not Saturated       7\n",
       "Name: count, dtype: int64"
      ]
     },
     "execution_count": 71,
     "metadata": {},
     "output_type": "execute_result"
    }
   ],
   "source": [
    "df['Saturation'].value_counts()"
   ]
  },
  {
   "cell_type": "code",
   "execution_count": 72,
   "metadata": {},
   "outputs": [
    {
     "data": {
      "text/plain": [
       "Day_of_saturation\n",
       "0.0     1441\n",
       "1.0      545\n",
       "2.0      360\n",
       "3.0      169\n",
       "4.0      135\n",
       "6.0       54\n",
       "5.0       46\n",
       "7.0       22\n",
       "8.0       21\n",
       "9.0       14\n",
       "10.0       3\n",
       "11.0       3\n",
       "Name: count, dtype: int64"
      ]
     },
     "execution_count": 72,
     "metadata": {},
     "output_type": "execute_result"
    }
   ],
   "source": [
    "df['Day_of_saturation'].value_counts()"
   ]
  },
  {
   "cell_type": "code",
   "execution_count": 73,
   "metadata": {},
   "outputs": [
    {
     "data": {
      "text/plain": [
       "1.2004976892996801"
      ]
     },
     "execution_count": 73,
     "metadata": {},
     "output_type": "execute_result"
    }
   ],
   "source": [
    "mean = df['Day_of_saturation'].mean()\n",
    "mean"
   ]
  },
  {
   "cell_type": "code",
   "execution_count": 74,
   "metadata": {},
   "outputs": [
    {
     "data": {
      "text/plain": [
       "1.781535541185598"
      ]
     },
     "execution_count": 74,
     "metadata": {},
     "output_type": "execute_result"
    }
   ],
   "source": [
    "std = df['Day_of_saturation'].std()\n",
    "std"
   ]
  },
  {
   "cell_type": "code",
   "execution_count": 75,
   "metadata": {},
   "outputs": [
    {
     "data": {
      "text/plain": [
       "Influencers          0\n",
       "1D                   0\n",
       "2D                   0\n",
       "3D                   0\n",
       "4D                   0\n",
       "5D                   0\n",
       "6D                   0\n",
       "7D                   0\n",
       "8D                   0\n",
       "9D                   0\n",
       "10D                  0\n",
       "11D                  0\n",
       "12D                  0\n",
       "13D                  0\n",
       "14D                  0\n",
       "Saturation           0\n",
       "Day_of_saturation    7\n",
       "dtype: int64"
      ]
     },
     "execution_count": 75,
     "metadata": {},
     "output_type": "execute_result"
    }
   ],
   "source": [
    "df.isnull().sum()"
   ]
  },
  {
   "cell_type": "code",
   "execution_count": 76,
   "metadata": {},
   "outputs": [],
   "source": [
    "# Convert \"Day_of_saturation\" column to numeric type, coercing errors to NaN\n",
    "df['Day_of_saturation'] = pd.to_numeric(df['Day_of_saturation'], errors='coerce')\n",
    "\n",
    "# Drop rows with NaN values, assuming that you want to exclude them from the analysis\n",
    "df.dropna(subset=['Day_of_saturation'], inplace=True)\n",
    "\n",
    "# Convert \"Day_of_saturation\" column to integer type\n",
    "df['Day_of_saturation'] = df['Day_of_saturation'].astype(int)\n"
   ]
  },
  {
   "cell_type": "code",
   "execution_count": 77,
   "metadata": {},
   "outputs": [
    {
     "data": {
      "image/png": "[encoded data removed]",
      "text/plain": [
       "<Figure size 640x480 with 1 Axes>"
      ]
     },
     "metadata": {},
     "output_type": "display_data"
    }
   ],
   "source": [
    "import matplotlib.pyplot as plt\n",
    "\n",
    "# Assuming you have a DataFrame named df with the \"Day_of_saturation\" column\n",
    "plt.hist(df['Day_of_saturation'], bins=10, color='orange', edgecolor='black')\n",
    "plt.xlabel('Day of Saturation')\n",
    "plt.ylabel('Frequency')\n",
    "plt.xlim(0,14)\n",
    "# plt.title('Histogram of Day of Saturation(Automobile)')\n",
    "plt.show()\n"
   ]
  },
  {
   "cell_type": "code",
   "execution_count": 78,
   "metadata": {},
   "outputs": [
    {
     "data": {
      "image/png": "[encoded data removed]",
      "text/plain": [
       "<Figure size 640x480 with 1 Axes>"
      ]
     },
     "metadata": {},
     "output_type": "display_data"
    }
   ],
   "source": [
    "import seaborn as sns\n",
    "\n",
    "# Assuming you have a DataFrame named df with the \"Day_of_saturation\" column\n",
    "sns.kdeplot(data=df['Day_of_saturation'], shade=True, color='orange')\n",
    "plt.xlabel('Day of Saturation')\n",
    "plt.ylabel('Density')\n",
    "plt.xlim(0,14)\n",
    "# plt.title('KDE Plot of Day of Saturation(food)')\n",
    "plt.show()\n"
   ]
  },
  {
   "cell_type": "code",
   "execution_count": 11,
   "metadata": {},
   "outputs": [],
   "source": [
    "df = pd.read_excel(r'D:\\Study\\Project\\Minor Project\\saturated_shoes_day1_to_day14.xlsx')"
   ]
  },
  {
   "cell_type": "code",
   "execution_count": 12,
   "metadata": {},
   "outputs": [
    {
     "data": {
      "text/plain": [
       "Day_of_saturation\n",
       "0.0     1441\n",
       "1.0      545\n",
       "2.0      360\n",
       "3.0      169\n",
       "4.0      135\n",
       "6.0       54\n",
       "5.0       46\n",
       "7.0       22\n",
       "8.0       21\n",
       "9.0       14\n",
       "10.0       3\n",
       "11.0       3\n",
       "Name: count, dtype: int64"
      ]
     },
     "execution_count": 12,
     "metadata": {},
     "output_type": "execute_result"
    }
   ],
   "source": [
    "df['Day_of_saturation'].value_counts()"
   ]
  },
  {
   "cell_type": "code",
   "execution_count": 13,
   "metadata": {},
   "outputs": [
    {
     "data": {
      "image/png": "[encoded data removed]",
      "text/plain": [
       "<Figure size 640x480 with 1 Axes>"
      ]
     },
     "metadata": {},
     "output_type": "display_data"
    }
   ],
   "source": [
    "plt.hist(df['Day_of_saturation'], bins=10, color='skyblue', edgecolor='black')\n",
    "plt.xlabel('Day of Saturation')\n",
    "plt.ylabel('Frequency')\n",
    "plt.xlim(0,14)\n",
    "plt.title('Histogram of Day of Saturation(shoes)')\n",
    "plt.show()\n"
   ]
  },
  {
   "cell_type": "code",
   "execution_count": null,
   "metadata": {},
   "outputs": [
    {
     "data": {
      "image/png": "[encoded data removed]",
      "text/plain": [
       "<Figure size 640x480 with 1 Axes>"
      ]
     },
     "metadata": {},
     "output_type": "display_data"
    }
   ],
   "source": [
    "import matplotlib.pyplot as plt\n",
    "\n",
    "# Assuming you have a DataFrame named df with the \"Day_of_saturation\" column\n",
    "plt.hist(df['Day_of_saturation'], bins=10, color='skyblue', edgecolor='black')\n",
    "plt.xlabel('Day of Saturation')\n",
    "plt.ylabel('Frequency')\n",
    "plt.xlim(0,14)\n",
    "plt.title('Histogram of Day of Saturation(food)')\n",
    "plt.show()\n"
   ]
  }
 ],
 "metadata": {
  "kernelspec": {
   "display_name": "Python 3",
   "language": "python",
   "name": "python3"
  },
  "language_info": {
   "codemirror_mode": {
    "name": "ipython",
    "version": 3
   },
   "file_extension": ".py",
   "mimetype": "text/x-python",
   "name": "python",
   "nbconvert_exporter": "python",
   "pygments_lexer": "ipython3",
   "version": "3.12.1"
  }
 },
 "nbformat": 4,
 "nbformat_minor": 2
}
