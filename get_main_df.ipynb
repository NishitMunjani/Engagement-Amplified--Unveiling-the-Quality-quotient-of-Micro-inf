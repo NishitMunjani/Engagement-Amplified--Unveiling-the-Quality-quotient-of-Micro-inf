{
 "cells": [
  {
   "cell_type": "code",
   "execution_count": 2,
   "metadata": {},
   "outputs": [],
   "source": [
    "import warnings\n",
    "warnings.filterwarnings('ignore')\n",
    "import pandas as pd\n",
    "import numpy as np\n",
    "import os\n",
    "import json"
   ]
  },
  {
   "cell_type": "code",
   "execution_count": 3,
   "metadata": {},
   "outputs": [],
   "source": [
    "# Step 1: Define the directory containing your JSON files\n",
    "json_dir = 'D://Study//Project//Minor Project//Categories//Non-profit//Brand Data'  # Update this path accordingly\n",
    "\n",
    "# Step 2: List all JSON files in the directory\n",
    "json_files = [file for file in os.listdir(json_dir) if file.endswith('.json')]\n",
    "\n",
    "# Step 3: Read each JSON file into a DataFrame and store them in a list\n",
    "dfs = []\n",
    "for file_name in json_files:\n",
    "    file_path = os.path.join(json_dir, file_name)\n",
    "    df = pd.read_json(file_path)\n",
    "    dfs.append(df)\n",
    "\n",
    "# Step 4: Concatenate or merge the DataFrames in the list into one DataFrame\n",
    "brand_df = pd.concat(dfs, ignore_index=True)"
   ]
  },
  {
   "cell_type": "code",
   "execution_count": 4,
   "metadata": {},
   "outputs": [
    {
     "data": {
      "text/plain": [
       "0   2024-02-27 07:42:58+00:00\n",
       "1   2024-02-26 11:23:48+00:00\n",
       "2   2024-02-26 11:32:40+00:00\n",
       "3   2024-02-27 07:40:45+00:00\n",
       "4   2024-02-26 10:40:03+00:00\n",
       "Name: timestamp, dtype: datetime64[ns, UTC]"
      ]
     },
     "execution_count": 4,
     "metadata": {},
     "output_type": "execute_result"
    }
   ],
   "source": [
    "brand_df['timestamp'].head()"
   ]
  },
  {
   "cell_type": "code",
   "execution_count": 5,
   "metadata": {},
   "outputs": [
    {
     "data": {
      "text/plain": [
       "Index(['inputUrl', 'id', 'type', 'shortCode', 'caption', 'hashtags',\n",
       "       'mentions', 'url', 'commentsCount', 'firstComment', 'latestComments',\n",
       "       'dimensionsHeight', 'dimensionsWidth', 'displayUrl', 'images',\n",
       "       'likesCount', 'timestamp', 'childPosts', 'ownerFullName',\n",
       "       'ownerUsername', 'ownerId', 'isSponsored', 'alt', 'videoUrl',\n",
       "       'videoViewCount', 'videoPlayCount', 'productType', 'videoDuration',\n",
       "       'musicInfo', 'taggedUsers', 'locationName', 'locationId',\n",
       "       'coauthorProducers', 'isPinned', 'paidPartnership', 'sponsors',\n",
       "       'username', 'fullName', 'biography', 'externalUrl',\n",
       "       'externalUrlShimmed', 'followersCount', 'followsCount', 'hasChannel',\n",
       "       'highlightReelCount', 'isBusinessAccount', 'joinedRecently',\n",
       "       'businessCategoryName', 'private', 'verified', 'profilePicUrl',\n",
       "       'profilePicUrlHD', 'facebookPage', 'igtvVideoCount', 'relatedProfiles',\n",
       "       'latestIgtvVideos', 'postsCount', 'latestPosts'],\n",
       "      dtype='object')"
      ]
     },
     "execution_count": 5,
     "metadata": {},
     "output_type": "execute_result"
    }
   ],
   "source": [
    "brand_df.columns"
   ]
  },
  {
   "cell_type": "code",
   "execution_count": 6,
   "metadata": {},
   "outputs": [],
   "source": [
    "comments_df = pd.read_json(r\"D:\\Study\\Project\\Minor Project\\Categories\\Non-profit\\All_comments_combined_nonprofit.json\")"
   ]
  },
  {
   "cell_type": "code",
   "execution_count": 7,
   "metadata": {},
   "outputs": [
    {
     "data": {
      "text/html": [
       "<div>\n",
       "<style scoped>\n",
       "    .dataframe tbody tr th:only-of-type {\n",
       "        vertical-align: middle;\n",
       "    }\n",
       "\n",
       "    .dataframe tbody tr th {\n",
       "        vertical-align: top;\n",
       "    }\n",
       "\n",
       "    .dataframe thead th {\n",
       "        text-align: right;\n",
       "    }\n",
       "</style>\n",
       "<table border=\"1\" class=\"dataframe\">\n",
       "  <thead>\n",
       "    <tr style=\"text-align: right;\">\n",
       "      <th></th>\n",
       "      <th>postUrl</th>\n",
       "      <th>id</th>\n",
       "      <th>text</th>\n",
       "      <th>ownerUsername</th>\n",
       "      <th>ownerProfilePicUrl</th>\n",
       "      <th>timestamp</th>\n",
       "      <th>likesCount</th>\n",
       "    </tr>\n",
       "  </thead>\n",
       "  <tbody>\n",
       "    <tr>\n",
       "      <th>0</th>\n",
       "      <td>https://www.instagram.com/p/CUciC-QrN6P/</td>\n",
       "      <td>17920300183921040</td>\n",
       "      <td>❤️💜💙</td>\n",
       "      <td>aldenrmachado</td>\n",
       "      <td>https://scontent-iad3-1.cdninstagram.com/v/t51...</td>\n",
       "      <td>2021-09-30 15:28:08</td>\n",
       "      <td>0</td>\n",
       "    </tr>\n",
       "    <tr>\n",
       "      <th>1</th>\n",
       "      <td>https://www.instagram.com/p/CUciC-QrN6P/</td>\n",
       "      <td>17924187259878484</td>\n",
       "      <td>👏</td>\n",
       "      <td>jan_sahyog_kendra</td>\n",
       "      <td>https://scontent-iad3-1.cdninstagram.com/v/t51...</td>\n",
       "      <td>2021-10-01 01:21:06</td>\n",
       "      <td>0</td>\n",
       "    </tr>\n",
       "    <tr>\n",
       "      <th>2</th>\n",
       "      <td>https://www.instagram.com/p/CnEjZvoIWE-/</td>\n",
       "      <td>17959809041214648</td>\n",
       "      <td>🙌❤️</td>\n",
       "      <td>kiran_gupta_26</td>\n",
       "      <td>https://instagram.fmnl4-1.fna.fbcdn.net/v/t51....</td>\n",
       "      <td>2023-01-06 14:49:07</td>\n",
       "      <td>0</td>\n",
       "    </tr>\n",
       "    <tr>\n",
       "      <th>3</th>\n",
       "      <td>https://www.instagram.com/p/CnEjZvoIWE-/</td>\n",
       "      <td>18070043713338176</td>\n",
       "      <td>I am from Gadchiroli so can I join with the go...</td>\n",
       "      <td>mamtajaunjalkar</td>\n",
       "      <td>https://instagram.fmnl4-1.fna.fbcdn.net/v/t51....</td>\n",
       "      <td>2023-01-07 15:02:45</td>\n",
       "      <td>0</td>\n",
       "    </tr>\n",
       "    <tr>\n",
       "      <th>4</th>\n",
       "      <td>https://www.instagram.com/p/CXAwt4WokhX/</td>\n",
       "      <td>17924857570960640</td>\n",
       "      <td>Great</td>\n",
       "      <td>divyajeevanngo</td>\n",
       "      <td>https://instagram.fdxb1-1.fna.fbcdn.net/v/t51....</td>\n",
       "      <td>2021-12-03 07:26:07</td>\n",
       "      <td>0</td>\n",
       "    </tr>\n",
       "  </tbody>\n",
       "</table>\n",
       "</div>"
      ],
      "text/plain": [
       "                                    postUrl                 id  \\\n",
       "0  https://www.instagram.com/p/CUciC-QrN6P/  17920300183921040   \n",
       "1  https://www.instagram.com/p/CUciC-QrN6P/  17924187259878484   \n",
       "2  https://www.instagram.com/p/CnEjZvoIWE-/  17959809041214648   \n",
       "3  https://www.instagram.com/p/CnEjZvoIWE-/  18070043713338176   \n",
       "4  https://www.instagram.com/p/CXAwt4WokhX/  17924857570960640   \n",
       "\n",
       "                                                text      ownerUsername  \\\n",
       "0                                               ❤️💜💙      aldenrmachado   \n",
       "1                                                  👏  jan_sahyog_kendra   \n",
       "2                                                🙌❤️     kiran_gupta_26   \n",
       "3  I am from Gadchiroli so can I join with the go...    mamtajaunjalkar   \n",
       "4                                              Great     divyajeevanngo   \n",
       "\n",
       "                                  ownerProfilePicUrl           timestamp  \\\n",
       "0  https://scontent-iad3-1.cdninstagram.com/v/t51... 2021-09-30 15:28:08   \n",
       "1  https://scontent-iad3-1.cdninstagram.com/v/t51... 2021-10-01 01:21:06   \n",
       "2  https://instagram.fmnl4-1.fna.fbcdn.net/v/t51.... 2023-01-06 14:49:07   \n",
       "3  https://instagram.fmnl4-1.fna.fbcdn.net/v/t51.... 2023-01-07 15:02:45   \n",
       "4  https://instagram.fdxb1-1.fna.fbcdn.net/v/t51.... 2021-12-03 07:26:07   \n",
       "\n",
       "   likesCount  \n",
       "0           0  \n",
       "1           0  \n",
       "2           0  \n",
       "3           0  \n",
       "4           0  "
      ]
     },
     "execution_count": 7,
     "metadata": {},
     "output_type": "execute_result"
    }
   ],
   "source": [
    "comments_df.head()"
   ]
  },
  {
   "cell_type": "code",
   "execution_count": 8,
   "metadata": {},
   "outputs": [
    {
     "data": {
      "text/plain": [
       "Index(['postUrl', 'id', 'text', 'ownerUsername', 'ownerProfilePicUrl',\n",
       "       'timestamp', 'likesCount'],\n",
       "      dtype='object')"
      ]
     },
     "execution_count": 8,
     "metadata": {},
     "output_type": "execute_result"
    }
   ],
   "source": [
    "comments_df.columns"
   ]
  },
  {
   "cell_type": "code",
   "execution_count": 9,
   "metadata": {},
   "outputs": [],
   "source": [
    "main_df = comments_df[['postUrl', 'timestamp']]"
   ]
  },
  {
   "cell_type": "code",
   "execution_count": 10,
   "metadata": {},
   "outputs": [
    {
     "data": {
      "text/html": [
       "<div>\n",
       "<style scoped>\n",
       "    .dataframe tbody tr th:only-of-type {\n",
       "        vertical-align: middle;\n",
       "    }\n",
       "\n",
       "    .dataframe tbody tr th {\n",
       "        vertical-align: top;\n",
       "    }\n",
       "\n",
       "    .dataframe thead th {\n",
       "        text-align: right;\n",
       "    }\n",
       "</style>\n",
       "<table border=\"1\" class=\"dataframe\">\n",
       "  <thead>\n",
       "    <tr style=\"text-align: right;\">\n",
       "      <th></th>\n",
       "      <th>postUrl</th>\n",
       "      <th>timestamp</th>\n",
       "    </tr>\n",
       "  </thead>\n",
       "  <tbody>\n",
       "    <tr>\n",
       "      <th>0</th>\n",
       "      <td>https://www.instagram.com/p/CUciC-QrN6P/</td>\n",
       "      <td>2021-09-30 15:28:08</td>\n",
       "    </tr>\n",
       "    <tr>\n",
       "      <th>1</th>\n",
       "      <td>https://www.instagram.com/p/CUciC-QrN6P/</td>\n",
       "      <td>2021-10-01 01:21:06</td>\n",
       "    </tr>\n",
       "    <tr>\n",
       "      <th>2</th>\n",
       "      <td>https://www.instagram.com/p/CnEjZvoIWE-/</td>\n",
       "      <td>2023-01-06 14:49:07</td>\n",
       "    </tr>\n",
       "    <tr>\n",
       "      <th>3</th>\n",
       "      <td>https://www.instagram.com/p/CnEjZvoIWE-/</td>\n",
       "      <td>2023-01-07 15:02:45</td>\n",
       "    </tr>\n",
       "    <tr>\n",
       "      <th>4</th>\n",
       "      <td>https://www.instagram.com/p/CXAwt4WokhX/</td>\n",
       "      <td>2021-12-03 07:26:07</td>\n",
       "    </tr>\n",
       "  </tbody>\n",
       "</table>\n",
       "</div>"
      ],
      "text/plain": [
       "                                    postUrl           timestamp\n",
       "0  https://www.instagram.com/p/CUciC-QrN6P/ 2021-09-30 15:28:08\n",
       "1  https://www.instagram.com/p/CUciC-QrN6P/ 2021-10-01 01:21:06\n",
       "2  https://www.instagram.com/p/CnEjZvoIWE-/ 2023-01-06 14:49:07\n",
       "3  https://www.instagram.com/p/CnEjZvoIWE-/ 2023-01-07 15:02:45\n",
       "4  https://www.instagram.com/p/CXAwt4WokhX/ 2021-12-03 07:26:07"
      ]
     },
     "execution_count": 10,
     "metadata": {},
     "output_type": "execute_result"
    }
   ],
   "source": [
    "main_df.head()"
   ]
  },
  {
   "cell_type": "code",
   "execution_count": 11,
   "metadata": {},
   "outputs": [],
   "source": [
    "main_df = main_df.rename(columns={'timestamp': 'comment_timestamp'})"
   ]
  },
  {
   "cell_type": "code",
   "execution_count": 12,
   "metadata": {},
   "outputs": [],
   "source": [
    "merged_df = pd.merge(main_df, brand_df[['url', 'likesCount', 'timestamp', 'mentions', 'commentsCount', 'hashtags']], \n",
    "                     left_on='postUrl', right_on='url', how='left')\n",
    "\n",
    "# Drop the redundant 'url' column\n",
    "merged_df = merged_df.drop(columns=['url'])"
   ]
  },
  {
   "cell_type": "code",
   "execution_count": 13,
   "metadata": {},
   "outputs": [],
   "source": [
    "main_df = merged_df"
   ]
  },
  {
   "cell_type": "code",
   "execution_count": 14,
   "metadata": {},
   "outputs": [
    {
     "data": {
      "text/html": [
       "<div>\n",
       "<style scoped>\n",
       "    .dataframe tbody tr th:only-of-type {\n",
       "        vertical-align: middle;\n",
       "    }\n",
       "\n",
       "    .dataframe tbody tr th {\n",
       "        vertical-align: top;\n",
       "    }\n",
       "\n",
       "    .dataframe thead th {\n",
       "        text-align: right;\n",
       "    }\n",
       "</style>\n",
       "<table border=\"1\" class=\"dataframe\">\n",
       "  <thead>\n",
       "    <tr style=\"text-align: right;\">\n",
       "      <th></th>\n",
       "      <th>postUrl</th>\n",
       "      <th>comment_timestamp</th>\n",
       "      <th>likesCount</th>\n",
       "      <th>timestamp</th>\n",
       "      <th>mentions</th>\n",
       "      <th>commentsCount</th>\n",
       "      <th>hashtags</th>\n",
       "    </tr>\n",
       "  </thead>\n",
       "  <tbody>\n",
       "    <tr>\n",
       "      <th>0</th>\n",
       "      <td>https://www.instagram.com/p/CUciC-QrN6P/</td>\n",
       "      <td>2021-09-30 15:28:08</td>\n",
       "      <td>107.0</td>\n",
       "      <td>2021-09-30 12:29:35+00:00</td>\n",
       "      <td>[anshugoonj, roopshadasguupta]</td>\n",
       "      <td>2.0</td>\n",
       "      <td>[Goonj]</td>\n",
       "    </tr>\n",
       "    <tr>\n",
       "      <th>1</th>\n",
       "      <td>https://www.instagram.com/p/CUciC-QrN6P/</td>\n",
       "      <td>2021-10-01 01:21:06</td>\n",
       "      <td>107.0</td>\n",
       "      <td>2021-09-30 12:29:35+00:00</td>\n",
       "      <td>[anshugoonj, roopshadasguupta]</td>\n",
       "      <td>2.0</td>\n",
       "      <td>[Goonj]</td>\n",
       "    </tr>\n",
       "    <tr>\n",
       "      <th>2</th>\n",
       "      <td>https://www.instagram.com/p/CnEjZvoIWE-/</td>\n",
       "      <td>2023-01-06 14:49:07</td>\n",
       "      <td>193.0</td>\n",
       "      <td>2023-01-06 10:56:09+00:00</td>\n",
       "      <td>[jagriti.yatra]</td>\n",
       "      <td>2.0</td>\n",
       "      <td>[]</td>\n",
       "    </tr>\n",
       "    <tr>\n",
       "      <th>3</th>\n",
       "      <td>https://www.instagram.com/p/CnEjZvoIWE-/</td>\n",
       "      <td>2023-01-07 15:02:45</td>\n",
       "      <td>193.0</td>\n",
       "      <td>2023-01-06 10:56:09+00:00</td>\n",
       "      <td>[jagriti.yatra]</td>\n",
       "      <td>2.0</td>\n",
       "      <td>[]</td>\n",
       "    </tr>\n",
       "    <tr>\n",
       "      <th>4</th>\n",
       "      <td>https://www.instagram.com/p/CXAwt4WokhX/</td>\n",
       "      <td>2021-12-03 07:26:07</td>\n",
       "      <td>52.0</td>\n",
       "      <td>2021-12-03 07:13:44+00:00</td>\n",
       "      <td>[amazonnews_in, repost.user, goonj, cashify]</td>\n",
       "      <td>2.0</td>\n",
       "      <td>[DeliveringSmiles, Goonj, repost]</td>\n",
       "    </tr>\n",
       "  </tbody>\n",
       "</table>\n",
       "</div>"
      ],
      "text/plain": [
       "                                    postUrl   comment_timestamp  likesCount  \\\n",
       "0  https://www.instagram.com/p/CUciC-QrN6P/ 2021-09-30 15:28:08       107.0   \n",
       "1  https://www.instagram.com/p/CUciC-QrN6P/ 2021-10-01 01:21:06       107.0   \n",
       "2  https://www.instagram.com/p/CnEjZvoIWE-/ 2023-01-06 14:49:07       193.0   \n",
       "3  https://www.instagram.com/p/CnEjZvoIWE-/ 2023-01-07 15:02:45       193.0   \n",
       "4  https://www.instagram.com/p/CXAwt4WokhX/ 2021-12-03 07:26:07        52.0   \n",
       "\n",
       "                  timestamp                                      mentions  \\\n",
       "0 2021-09-30 12:29:35+00:00                [anshugoonj, roopshadasguupta]   \n",
       "1 2021-09-30 12:29:35+00:00                [anshugoonj, roopshadasguupta]   \n",
       "2 2023-01-06 10:56:09+00:00                               [jagriti.yatra]   \n",
       "3 2023-01-06 10:56:09+00:00                               [jagriti.yatra]   \n",
       "4 2021-12-03 07:13:44+00:00  [amazonnews_in, repost.user, goonj, cashify]   \n",
       "\n",
       "   commentsCount                           hashtags  \n",
       "0            2.0                            [Goonj]  \n",
       "1            2.0                            [Goonj]  \n",
       "2            2.0                                 []  \n",
       "3            2.0                                 []  \n",
       "4            2.0  [DeliveringSmiles, Goonj, repost]  "
      ]
     },
     "execution_count": 14,
     "metadata": {},
     "output_type": "execute_result"
    }
   ],
   "source": [
    "main_df.head()"
   ]
  },
  {
   "cell_type": "code",
   "execution_count": 15,
   "metadata": {},
   "outputs": [],
   "source": [
    "main_df = main_df.rename(columns={'timestamp': 'post_timestamp'})"
   ]
  },
  {
   "cell_type": "code",
   "execution_count": 16,
   "metadata": {},
   "outputs": [],
   "source": [
    "main_df.to_json('Main_dataframe_nonprofit.json', orient='records', date_format='iso')"
   ]
  },
  {
   "cell_type": "code",
   "execution_count": null,
   "metadata": {},
   "outputs": [],
   "source": []
  },
  {
   "cell_type": "code",
   "execution_count": 16,
   "metadata": {},
   "outputs": [],
   "source": [
    "df_new = pd.read_json(r'D:\\Study\\Project\\Minor Project\\Categories\\Main_dataframe_shoes.json')"
   ]
  },
  {
   "cell_type": "code",
   "execution_count": 17,
   "metadata": {},
   "outputs": [
    {
     "data": {
      "text/html": [
       "<div>\n",
       "<style scoped>\n",
       "    .dataframe tbody tr th:only-of-type {\n",
       "        vertical-align: middle;\n",
       "    }\n",
       "\n",
       "    .dataframe tbody tr th {\n",
       "        vertical-align: top;\n",
       "    }\n",
       "\n",
       "    .dataframe thead th {\n",
       "        text-align: right;\n",
       "    }\n",
       "</style>\n",
       "<table border=\"1\" class=\"dataframe\">\n",
       "  <thead>\n",
       "    <tr style=\"text-align: right;\">\n",
       "      <th></th>\n",
       "      <th>postUrl</th>\n",
       "      <th>comment_timestamp</th>\n",
       "      <th>likesCount</th>\n",
       "      <th>post_timestamp</th>\n",
       "      <th>mentions</th>\n",
       "    </tr>\n",
       "  </thead>\n",
       "  <tbody>\n",
       "    <tr>\n",
       "      <th>0</th>\n",
       "      <td>https://www.instagram.com/p/7Cv9hcJNvG/</td>\n",
       "      <td>2015-08-31T10:13:02.000Z</td>\n",
       "      <td>34</td>\n",
       "      <td>2015-08-31T09:36:51.000Z</td>\n",
       "      <td>[whartever, repostapp]</td>\n",
       "    </tr>\n",
       "    <tr>\n",
       "      <th>1</th>\n",
       "      <td>https://www.instagram.com/p/7Cw92ppNgg/</td>\n",
       "      <td>2015-08-31T09:51:34.000Z</td>\n",
       "      <td>42</td>\n",
       "      <td>2015-08-31T09:45:38.000Z</td>\n",
       "      <td>[whartever, repostapp]</td>\n",
       "    </tr>\n",
       "    <tr>\n",
       "      <th>2</th>\n",
       "      <td>https://www.instagram.com/p/7Cw92ppNgg/</td>\n",
       "      <td>2015-08-31T12:50:34.000Z</td>\n",
       "      <td>42</td>\n",
       "      <td>2015-08-31T09:45:38.000Z</td>\n",
       "      <td>[whartever, repostapp]</td>\n",
       "    </tr>\n",
       "    <tr>\n",
       "      <th>3</th>\n",
       "      <td>https://www.instagram.com/p/7Cw92ppNgg/</td>\n",
       "      <td>2015-08-31T17:33:26.000Z</td>\n",
       "      <td>42</td>\n",
       "      <td>2015-08-31T09:45:38.000Z</td>\n",
       "      <td>[whartever, repostapp]</td>\n",
       "    </tr>\n",
       "    <tr>\n",
       "      <th>4</th>\n",
       "      <td>https://www.instagram.com/p/Cxss3QBx6cO/</td>\n",
       "      <td>2023-09-27T15:40:16.000Z</td>\n",
       "      <td>359</td>\n",
       "      <td>2023-09-27T14:22:23.000Z</td>\n",
       "      <td>[nanditamiglani]</td>\n",
       "    </tr>\n",
       "    <tr>\n",
       "      <th>...</th>\n",
       "      <td>...</td>\n",
       "      <td>...</td>\n",
       "      <td>...</td>\n",
       "      <td>...</td>\n",
       "      <td>...</td>\n",
       "    </tr>\n",
       "    <tr>\n",
       "      <th>95</th>\n",
       "      <td>https://www.instagram.com/p/CzBtVmwJtv6/</td>\n",
       "      <td>2023-10-31T02:06:03.000Z</td>\n",
       "      <td>1844</td>\n",
       "      <td>2023-10-30T14:44:37.000Z</td>\n",
       "      <td>[tattoozbyraghav, sandipan_zm]</td>\n",
       "    </tr>\n",
       "    <tr>\n",
       "      <th>96</th>\n",
       "      <td>https://www.instagram.com/p/CzBtVmwJtv6/</td>\n",
       "      <td>2023-10-31T02:57:47.000Z</td>\n",
       "      <td>1844</td>\n",
       "      <td>2023-10-30T14:44:37.000Z</td>\n",
       "      <td>[tattoozbyraghav, sandipan_zm]</td>\n",
       "    </tr>\n",
       "    <tr>\n",
       "      <th>97</th>\n",
       "      <td>https://www.instagram.com/p/CzBtVmwJtv6/</td>\n",
       "      <td>2023-10-31T04:36:19.000Z</td>\n",
       "      <td>1844</td>\n",
       "      <td>2023-10-30T14:44:37.000Z</td>\n",
       "      <td>[tattoozbyraghav, sandipan_zm]</td>\n",
       "    </tr>\n",
       "    <tr>\n",
       "      <th>98</th>\n",
       "      <td>https://www.instagram.com/p/CzBtVmwJtv6/</td>\n",
       "      <td>2023-10-31T05:02:20.000Z</td>\n",
       "      <td>1844</td>\n",
       "      <td>2023-10-30T14:44:37.000Z</td>\n",
       "      <td>[tattoozbyraghav, sandipan_zm]</td>\n",
       "    </tr>\n",
       "    <tr>\n",
       "      <th>99</th>\n",
       "      <td>https://www.instagram.com/p/CzBtVmwJtv6/</td>\n",
       "      <td>2023-10-31T06:06:16.000Z</td>\n",
       "      <td>1844</td>\n",
       "      <td>2023-10-30T14:44:37.000Z</td>\n",
       "      <td>[tattoozbyraghav, sandipan_zm]</td>\n",
       "    </tr>\n",
       "  </tbody>\n",
       "</table>\n",
       "<p>100 rows × 5 columns</p>\n",
       "</div>"
      ],
      "text/plain": [
       "                                     postUrl         comment_timestamp  \\\n",
       "0    https://www.instagram.com/p/7Cv9hcJNvG/  2015-08-31T10:13:02.000Z   \n",
       "1    https://www.instagram.com/p/7Cw92ppNgg/  2015-08-31T09:51:34.000Z   \n",
       "2    https://www.instagram.com/p/7Cw92ppNgg/  2015-08-31T12:50:34.000Z   \n",
       "3    https://www.instagram.com/p/7Cw92ppNgg/  2015-08-31T17:33:26.000Z   \n",
       "4   https://www.instagram.com/p/Cxss3QBx6cO/  2023-09-27T15:40:16.000Z   \n",
       "..                                       ...                       ...   \n",
       "95  https://www.instagram.com/p/CzBtVmwJtv6/  2023-10-31T02:06:03.000Z   \n",
       "96  https://www.instagram.com/p/CzBtVmwJtv6/  2023-10-31T02:57:47.000Z   \n",
       "97  https://www.instagram.com/p/CzBtVmwJtv6/  2023-10-31T04:36:19.000Z   \n",
       "98  https://www.instagram.com/p/CzBtVmwJtv6/  2023-10-31T05:02:20.000Z   \n",
       "99  https://www.instagram.com/p/CzBtVmwJtv6/  2023-10-31T06:06:16.000Z   \n",
       "\n",
       "    likesCount            post_timestamp                        mentions  \n",
       "0           34  2015-08-31T09:36:51.000Z          [whartever, repostapp]  \n",
       "1           42  2015-08-31T09:45:38.000Z          [whartever, repostapp]  \n",
       "2           42  2015-08-31T09:45:38.000Z          [whartever, repostapp]  \n",
       "3           42  2015-08-31T09:45:38.000Z          [whartever, repostapp]  \n",
       "4          359  2023-09-27T14:22:23.000Z                [nanditamiglani]  \n",
       "..         ...                       ...                             ...  \n",
       "95        1844  2023-10-30T14:44:37.000Z  [tattoozbyraghav, sandipan_zm]  \n",
       "96        1844  2023-10-30T14:44:37.000Z  [tattoozbyraghav, sandipan_zm]  \n",
       "97        1844  2023-10-30T14:44:37.000Z  [tattoozbyraghav, sandipan_zm]  \n",
       "98        1844  2023-10-30T14:44:37.000Z  [tattoozbyraghav, sandipan_zm]  \n",
       "99        1844  2023-10-30T14:44:37.000Z  [tattoozbyraghav, sandipan_zm]  \n",
       "\n",
       "[100 rows x 5 columns]"
      ]
     },
     "execution_count": 17,
     "metadata": {},
     "output_type": "execute_result"
    }
   ],
   "source": [
    "df_new.head(100)"
   ]
  },
  {
   "cell_type": "code",
   "execution_count": null,
   "metadata": {},
   "outputs": [],
   "source": [
    "def get_total_commment_counts(timestamp):\n",
    "    one_week_after = timestamp + pd.to_timedelta(7, unit='D')\n",
    "    filtered_comments = main_df[(main_df['comment_timestamp'] >= timestamp) & (main_df['comment_timestamp'] <= one_week_after)]\n",
    "    no_of_comments = filtered_comments.shape[0]\n",
    "    return no_of_comments"
   ]
  },
  {
   "cell_type": "code",
   "execution_count": null,
   "metadata": {},
   "outputs": [],
   "source": [
    "all_mentions = []\n",
    "all_comment_count = []\n",
    "\n",
    "#converting the timestamp field of brand and comments df \n",
    "main_df['post_timestamp'] = pd.to_datetime(main_df['post_timestamp'], utc=True)\n",
    "main_df['comment_timestamp'] = pd.to_datetime(main_df['comment_timestamp'], utc=True)\n",
    "\n",
    "for i in range(len(main_df)):\n",
    "    link = main_df['postUrl'].iloc[i]\n",
    "    timestamp = main_df['post_timestamp'].iloc[i]\n",
    "    no_of_comments = get_total_commment_counts(timestamp)\n",
    "    inf = main_df['mentions'].iloc[i]\n",
    "    for value in inf:\n",
    "        all_mentions.append(value)\n",
    "        all_comment_count.append(no_of_comments)\n",
    "    print(i)\n",
    "    "
   ]
  },
  {
   "cell_type": "code",
   "execution_count": null,
   "metadata": {},
   "outputs": [],
   "source": [
    "len(all_mentions)"
   ]
  },
  {
   "cell_type": "code",
   "execution_count": null,
   "metadata": {},
   "outputs": [],
   "source": [
    "len(all_comment_count)"
   ]
  },
  {
   "cell_type": "code",
   "execution_count": null,
   "metadata": {},
   "outputs": [],
   "source": [
    "# Create DataFrame with two columns\n",
    "df = pd.DataFrame({'Influencers': all_mentions, '7D_Comment_Counts': all_comment_count})\n",
    "inf_df_unique = df.groupby('Influencers', as_index=False)['7D_Comment_Counts'].mean()\n",
    "inf_df_unique.to_excel('7D_comment_count_beverages.xlsx', index=False)"
   ]
  },
  {
   "cell_type": "code",
   "execution_count": null,
   "metadata": {},
   "outputs": [],
   "source": [
    "import pandas as pd\n",
    "new_df = pd.read_csv(r'D:\\Study\\Project\\Minor Project\\Categories\\Main_dataframe_food.csv')"
   ]
  },
  {
   "cell_type": "code",
   "execution_count": null,
   "metadata": {},
   "outputs": [],
   "source": [
    "new_df.head()"
   ]
  },
  {
   "cell_type": "code",
   "execution_count": null,
   "metadata": {},
   "outputs": [],
   "source": [
    "new_df.to_json('BB.json', orient='records',  date_format='iso')"
   ]
  },
  {
   "cell_type": "code",
   "execution_count": null,
   "metadata": {},
   "outputs": [],
   "source": [
    "new_json_df = pd.read_json(r'D:\\Study\\Project\\Minor Project\\Categories\\BB.json')"
   ]
  },
  {
   "cell_type": "code",
   "execution_count": null,
   "metadata": {},
   "outputs": [],
   "source": [
    "new_json_df.head()"
   ]
  },
  {
   "cell_type": "code",
   "execution_count": null,
   "metadata": {},
   "outputs": [],
   "source": []
  }
 ],
 "metadata": {
  "kernelspec": {
   "display_name": "Python 3",
   "language": "python",
   "name": "python3"
  },
  "language_info": {
   "codemirror_mode": {
    "name": "ipython",
    "version": 3
   },
   "file_extension": ".py",
   "mimetype": "text/x-python",
   "name": "python",
   "nbconvert_exporter": "python",
   "pygments_lexer": "ipython3",
   "version": "3.12.1"
  }
 },
 "nbformat": 4,
 "nbformat_minor": 2
}
